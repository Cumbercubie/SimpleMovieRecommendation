{
 "cells": [
  {
   "cell_type": "code",
   "execution_count": 1,
   "metadata": {
    "scrolled": false
   },
   "outputs": [],
   "source": [
    "import pandas as pd\n",
    "# !pip install rake_nltk\n",
    "from sklearn.metrics.pairwise import cosine_similarity\n",
    "from sklearn.feature_extraction.text import CountVectorizer\n",
    "from rake_nltk import Rake\n",
    "rake = Rake()"
   ]
  },
  {
   "cell_type": "code",
   "execution_count": 2,
   "metadata": {},
   "outputs": [],
   "source": [
    "ml_25 = pd.read_csv('10mil.csv')"
   ]
  },
  {
   "cell_type": "code",
   "execution_count": 9,
   "metadata": {},
   "outputs": [
    {
     "name": "stderr",
     "output_type": "stream",
     "text": [
      "D:\\Python 3.7\\lib\\site-packages\\ipykernel_launcher.py:1: ParserWarning: Falling back to the 'python' engine because the 'c' engine does not support regex separators (separators > 1 char and different from '\\s+' are interpreted as regex); you can avoid this warning by specifying engine='python'.\n",
      "  \"\"\"Entry point for launching an IPython kernel.\n"
     ]
    }
   ],
   "source": [
    "ml_10 = pd.read_csv('movies.dat',sep='::',names=['movieId','title','genres'],encoding='latin-1')"
   ]
  },
  {
   "cell_type": "code",
   "execution_count": 3,
   "metadata": {
    "scrolled": false
   },
   "outputs": [
    {
     "data": {
      "text/html": [
       "<div>\n",
       "<style scoped>\n",
       "    .dataframe tbody tr th:only-of-type {\n",
       "        vertical-align: middle;\n",
       "    }\n",
       "\n",
       "    .dataframe tbody tr th {\n",
       "        vertical-align: top;\n",
       "    }\n",
       "\n",
       "    .dataframe thead th {\n",
       "        text-align: right;\n",
       "    }\n",
       "</style>\n",
       "<table border=\"1\" class=\"dataframe\">\n",
       "  <thead>\n",
       "    <tr style=\"text-align: right;\">\n",
       "      <th></th>\n",
       "      <th>title</th>\n",
       "      <th>director</th>\n",
       "      <th>cast</th>\n",
       "      <th>genres</th>\n",
       "      <th>overview</th>\n",
       "    </tr>\n",
       "  </thead>\n",
       "  <tbody>\n",
       "    <tr>\n",
       "      <th>0</th>\n",
       "      <td>Toy Story</td>\n",
       "      <td>John Lasseter</td>\n",
       "      <td>Tom Hanks|Tim Allen|Don Rickles|Jim Varney|Wal...</td>\n",
       "      <td>Animation|Comedy|Family</td>\n",
       "      <td>Woody the cowboy is young Andyâ€™s favorite to...</td>\n",
       "    </tr>\n",
       "    <tr>\n",
       "      <th>1</th>\n",
       "      <td>Jumanji</td>\n",
       "      <td>Joe Johnston</td>\n",
       "      <td>Robin Williams|Jonathan Hyde|Kirsten Dunst|Bra...</td>\n",
       "      <td>Adventure|Fantasy|Family</td>\n",
       "      <td>When siblings Judy and Peter discover an encha...</td>\n",
       "    </tr>\n",
       "    <tr>\n",
       "      <th>2</th>\n",
       "      <td>Grumpier Old Men</td>\n",
       "      <td>Howard Deutch</td>\n",
       "      <td>Walter Matthau|Jack Lemmon|Ann-Margret|Sophia ...</td>\n",
       "      <td>Romance|Comedy</td>\n",
       "      <td>A family wedding reignites the ancient feud be...</td>\n",
       "    </tr>\n",
       "  </tbody>\n",
       "</table>\n",
       "</div>"
      ],
      "text/plain": [
       "              title       director  \\\n",
       "0         Toy Story  John Lasseter   \n",
       "1           Jumanji   Joe Johnston   \n",
       "2  Grumpier Old Men  Howard Deutch   \n",
       "\n",
       "                                                cast  \\\n",
       "0  Tom Hanks|Tim Allen|Don Rickles|Jim Varney|Wal...   \n",
       "1  Robin Williams|Jonathan Hyde|Kirsten Dunst|Bra...   \n",
       "2  Walter Matthau|Jack Lemmon|Ann-Margret|Sophia ...   \n",
       "\n",
       "                     genres                                           overview  \n",
       "0   Animation|Comedy|Family  Woody the cowboy is young Andyâ€™s favorite to...  \n",
       "1  Adventure|Fantasy|Family  When siblings Judy and Peter discover an encha...  \n",
       "2            Romance|Comedy  A family wedding reignites the ancient feud be...  "
      ]
     },
     "execution_count": 3,
     "metadata": {},
     "output_type": "execute_result"
    }
   ],
   "source": [
    "data = ml_25[['title','director','cast','genres','overview']]\n",
    "data.head(3)"
   ]
  },
  {
   "cell_type": "code",
   "execution_count": 5,
   "metadata": {},
   "outputs": [
    {
     "data": {
      "text/plain": [
       "2008"
      ]
     },
     "execution_count": 5,
     "metadata": {},
     "output_type": "execute_result"
    }
   ],
   "source": [
    "ml_25['year'].max()"
   ]
  },
  {
   "cell_type": "code",
   "execution_count": 4,
   "metadata": {},
   "outputs": [
    {
     "name": "stderr",
     "output_type": "stream",
     "text": [
      "D:\\Python 3.7\\lib\\site-packages\\ipykernel_launcher.py:1: SettingWithCopyWarning: \n",
      "A value is trying to be set on a copy of a slice from a DataFrame.\n",
      "Try using .loc[row_indexer,col_indexer] = value instead\n",
      "\n",
      "See the caveats in the documentation: http://pandas.pydata.org/pandas-docs/stable/user_guide/indexing.html#returning-a-view-versus-a-copy\n",
      "  \"\"\"Entry point for launching an IPython kernel.\n",
      "D:\\Python 3.7\\lib\\site-packages\\ipykernel_launcher.py:2: SettingWithCopyWarning: \n",
      "A value is trying to be set on a copy of a slice from a DataFrame.\n",
      "Try using .loc[row_indexer,col_indexer] = value instead\n",
      "\n",
      "See the caveats in the documentation: http://pandas.pydata.org/pandas-docs/stable/user_guide/indexing.html#returning-a-view-versus-a-copy\n",
      "  \n",
      "D:\\Python 3.7\\lib\\site-packages\\ipykernel_launcher.py:3: SettingWithCopyWarning: \n",
      "A value is trying to be set on a copy of a slice from a DataFrame.\n",
      "Try using .loc[row_indexer,col_indexer] = value instead\n",
      "\n",
      "See the caveats in the documentation: http://pandas.pydata.org/pandas-docs/stable/user_guide/indexing.html#returning-a-view-versus-a-copy\n",
      "  This is separate from the ipykernel package so we can avoid doing imports until\n",
      "D:\\Python 3.7\\lib\\site-packages\\ipykernel_launcher.py:4: SettingWithCopyWarning: \n",
      "A value is trying to be set on a copy of a slice from a DataFrame.\n",
      "Try using .loc[row_indexer,col_indexer] = value instead\n",
      "\n",
      "See the caveats in the documentation: http://pandas.pydata.org/pandas-docs/stable/user_guide/indexing.html#returning-a-view-versus-a-copy\n",
      "  after removing the cwd from sys.path.\n",
      "D:\\Python 3.7\\lib\\site-packages\\ipykernel_launcher.py:5: SettingWithCopyWarning: \n",
      "A value is trying to be set on a copy of a slice from a DataFrame.\n",
      "Try using .loc[row_indexer,col_indexer] = value instead\n",
      "\n",
      "See the caveats in the documentation: http://pandas.pydata.org/pandas-docs/stable/user_guide/indexing.html#returning-a-view-versus-a-copy\n",
      "  \"\"\"\n"
     ]
    },
    {
     "data": {
      "text/plain": [
       "0        animation comedy family  johnlasseter tomhanks...\n",
       "1        adventure fantasy family  joejohnston robinwil...\n",
       "2        romance comedy  howarddeutch waltermatthau jac...\n",
       "3        comedy drama romance  forestwhitaker whitneyho...\n",
       "4        comedy  charlesshyer stevemartin dianekeaton m...\n",
       "                               ...                        \n",
       "10676    fantasy comedy family romance  adamshankman ad...\n",
       "10677                                 none  none none none\n",
       "10678    comedy drama  clarkgregg anjelicahuston kellym...\n",
       "10679    drama romance  sammendes leonardodicaprio kate...\n",
       "10680    comedy history  paulweiland rowanatkinson tony...\n",
       "Name: key_notes, Length: 10681, dtype: object"
      ]
     },
     "execution_count": 4,
     "metadata": {},
     "output_type": "execute_result"
    }
   ],
   "source": [
    "data['director'] = data['director'].fillna(' ')\n",
    "data['director'] = data['director'].astype(str)\n",
    "data['cast'] = data['cast'].fillna(' ')\n",
    "data['cast'] = data['cast'].astype(str)\n",
    "data['key_notes'] = ''\n",
    "for index,row in data.iterrows():\n",
    "    plot = str(row['overview'])\n",
    "    rake.extract_keywords_from_text(plot)\n",
    "    keyword_score = rake.get_word_degrees()\n",
    "    genre = ' '.join(str(row['genres']).split('|')).lower()\n",
    "    director = ' '.join(row['director'].replace(' ','').split('|')).lower()\n",
    "    cast = ' '.join(row['cast'].replace(' ','').split('|')).lower()\n",
    "    keyword_score = ' '.join(list(keyword_score.keys()))\n",
    "    row['key_notes'] = genre + ' ' + ' ' + director + ' ' + cast + ' ' + keyword_score\n",
    "recommend = data[['title','key_notes']]\n",
    "recommend['key_notes']"
   ]
  },
  {
   "cell_type": "code",
   "execution_count": 5,
   "metadata": {},
   "outputs": [
    {
     "name": "stdout",
     "output_type": "stream",
     "text": [
      "[[1.         0.02354408 0.04819627 ... 0.03256448 0.02951407 0.08623253]\n",
      " [0.02354408 1.         0.06978632 ... 0.         0.02849014 0.        ]\n",
      " [0.04819627 0.06978632 1.         ... 0.03217447 0.02916059 0.03407991]\n",
      " ...\n",
      " [0.03256448 0.         0.03217447 ... 1.         0.03940552 0.04605313]\n",
      " [0.02951407 0.02849014 0.02916059 ... 0.03940552 1.         0.        ]\n",
      " [0.08623253 0.         0.03407991 ... 0.04605313 0.         1.        ]]\n"
     ]
    }
   ],
   "source": [
    "cv = CountVectorizer()\n",
    "count_mat = cv.fit_transform(recommend['key_notes'])\n",
    "cosine_sim = cosine_similarity(count_mat,count_mat)\n",
    "print(cosine_sim)"
   ]
  },
  {
   "cell_type": "code",
   "execution_count": 19,
   "metadata": {},
   "outputs": [],
   "source": [
    "indices = pd.Series(recommend['title'])\n",
    "def recommend_movie(name):\n",
    "    movie=[]\n",
    "    idx_full = indices[indices == name].index\n",
    "    idx = indices[indices == name].index[0]\n",
    "    print(idx_full)\n",
    "    sort_index = pd.Series(cosine_sim[idx]).sort_values(ascending = False)\n",
    "    recommendation_5= sort_index.iloc[1:5]\n",
    "    for i in recommendation_5.index:\n",
    "        movie.append(indices[i])\n",
    "    return movie"
   ]
  },
  {
   "cell_type": "code",
   "execution_count": 24,
   "metadata": {},
   "outputs": [
    {
     "name": "stdout",
     "output_type": "stream",
     "text": [
      "Int64Index([5], dtype='int64')\n"
     ]
    },
    {
     "data": {
      "text/plain": [
       "['Narrow Margin', 'Kiss Kiss Bang Bang', 'Thief', 'Manhunter']"
      ]
     },
     "execution_count": 24,
     "metadata": {},
     "output_type": "execute_result"
    }
   ],
   "source": [
    "recommend_movie('Heat')"
   ]
  },
  {
   "cell_type": "code",
   "execution_count": null,
   "metadata": {},
   "outputs": [
    {
     "name": "stdout",
     "output_type": "stream",
     "text": [
      "To exit Enter \"quit\" \n",
      "\n",
      "Enter The Name of a Movie or Tv Show: The Irishman\n",
      "The movie or Tv Show does not exist\n",
      "\n",
      "Enter The Name of a Movie or Tv Show: Toy Story\n",
      "['Toy Story 2', \"Doug's 1st Movie\", 'Oliver & Company', 'American Pop']\n",
      "Enter The Name of a Movie or Tv Show: Jumanji\n",
      "['MirrorMask', 'Bedknobs and Broomsticks', \"Lemony Snicket's A Series of Unfortunate Events\", 'Hook']\n"
     ]
    }
   ],
   "source": [
    "def rec():\n",
    "    try:\n",
    "        i = 1\n",
    "        while(i > 0):\n",
    "            name = input(\"Enter The Name of a Movie or Tv Show: \")\n",
    "            if name.lower() == 'quit':\n",
    "                break\n",
    "            else:\n",
    "                print(recommend_movie(name))\n",
    "\n",
    "    except KeyboardInterrupt:\n",
    "        print(\"The movie or Tv Show does not exist\\n\")\n",
    "        rec()\n",
    "\n",
    "    except IndexError:\n",
    "        print(\"The movie or Tv Show does not exist\\n\")\n",
    "        rec()\n",
    "        \n",
    "\n",
    "print(\"To exit Enter \\\"quit\\\" \\n\")\n",
    "rec()"
   ]
  },
  {
   "cell_type": "code",
   "execution_count": 15,
   "metadata": {},
   "outputs": [
    {
     "data": {
      "text/html": [
       "<div>\n",
       "<style scoped>\n",
       "    .dataframe tbody tr th:only-of-type {\n",
       "        vertical-align: middle;\n",
       "    }\n",
       "\n",
       "    .dataframe tbody tr th {\n",
       "        vertical-align: top;\n",
       "    }\n",
       "\n",
       "    .dataframe thead th {\n",
       "        text-align: right;\n",
       "    }\n",
       "</style>\n",
       "<table border=\"1\" class=\"dataframe\">\n",
       "  <thead>\n",
       "    <tr style=\"text-align: right;\">\n",
       "      <th></th>\n",
       "      <th>movieId</th>\n",
       "      <th>title</th>\n",
       "      <th>Genre</th>\n",
       "      <th>year</th>\n",
       "      <th>cast</th>\n",
       "      <th>director</th>\n",
       "      <th>tagline</th>\n",
       "      <th>overview</th>\n",
       "      <th>runtime</th>\n",
       "      <th>genres</th>\n",
       "      <th>production_companies</th>\n",
       "    </tr>\n",
       "  </thead>\n",
       "  <tbody>\n",
       "    <tr>\n",
       "      <th>3302</th>\n",
       "      <td>3388</td>\n",
       "      <td>Harry and the Hendersons</td>\n",
       "      <td>Children|Comedy</td>\n",
       "      <td>1987</td>\n",
       "      <td>John Lithgow|Melinda Dillon|Margaret Langrick|...</td>\n",
       "      <td>William Dear</td>\n",
       "      <td>When You Can't Believe Your Eyes, Trust Your H...</td>\n",
       "      <td>Returning from a hunting trip in the forest, t...</td>\n",
       "      <td>110.0</td>\n",
       "      <td>Comedy|Family|Fantasy</td>\n",
       "      <td>Universal Pictures|Amblin Entertainment</td>\n",
       "    </tr>\n",
       "    <tr>\n",
       "      <th>4802</th>\n",
       "      <td>4896</td>\n",
       "      <td>Harry Potter and the Sorcerer's Stone</td>\n",
       "      <td>Adventure|Children|Fantasy</td>\n",
       "      <td>2001</td>\n",
       "      <td>None</td>\n",
       "      <td>None</td>\n",
       "      <td>None</td>\n",
       "      <td>None</td>\n",
       "      <td>None</td>\n",
       "      <td>None</td>\n",
       "      <td>None</td>\n",
       "    </tr>\n",
       "    <tr>\n",
       "      <th>5391</th>\n",
       "      <td>5487</td>\n",
       "      <td>Harry and Walter Go to New York</td>\n",
       "      <td>Comedy</td>\n",
       "      <td>1976</td>\n",
       "      <td>None</td>\n",
       "      <td>None</td>\n",
       "      <td>None</td>\n",
       "      <td>None</td>\n",
       "      <td>None</td>\n",
       "      <td>None</td>\n",
       "      <td>None</td>\n",
       "    </tr>\n",
       "    <tr>\n",
       "      <th>5718</th>\n",
       "      <td>5816</td>\n",
       "      <td>Harry Potter and the Chamber of Secrets</td>\n",
       "      <td>Adventure|Children|Fantasy</td>\n",
       "      <td>2002</td>\n",
       "      <td>Daniel Radcliffe|Rupert Grint|Emma Watson|Kenn...</td>\n",
       "      <td>Chris Columbus</td>\n",
       "      <td>Hogwarts is back in session.</td>\n",
       "      <td>Ignoring threats to his life, Harry returns to...</td>\n",
       "      <td>161.0</td>\n",
       "      <td>Adventure|Fantasy|Family</td>\n",
       "      <td>1492 Pictures|Warner Bros.|Heyday Films|MIRACL...</td>\n",
       "    </tr>\n",
       "    <tr>\n",
       "      <th>7754</th>\n",
       "      <td>8368</td>\n",
       "      <td>Harry Potter and the Prisoner of Azkaban</td>\n",
       "      <td>Adventure|Children|Fantasy</td>\n",
       "      <td>2004</td>\n",
       "      <td>Daniel Radcliffe|Rupert Grint|Emma Watson|Gary...</td>\n",
       "      <td>Alfonso CuarÃ³n</td>\n",
       "      <td>Something wicked this way comes.</td>\n",
       "      <td>Harry, Ron and Hermione return to Hogwarts for...</td>\n",
       "      <td>141.0</td>\n",
       "      <td>Adventure|Fantasy|Family</td>\n",
       "      <td>1492 Pictures|Warner Bros.|Heyday Films|P of A...</td>\n",
       "    </tr>\n",
       "    <tr>\n",
       "      <th>9335</th>\n",
       "      <td>40815</td>\n",
       "      <td>Harry Potter and the Goblet of Fire</td>\n",
       "      <td>Adventure|Fantasy|Thriller</td>\n",
       "      <td>2005</td>\n",
       "      <td>Daniel Radcliffe|Rupert Grint|Emma Watson|Ralp...</td>\n",
       "      <td>Mike Newell</td>\n",
       "      <td>Dark And Difficult Times Lie Ahead.</td>\n",
       "      <td>Harry starts his fourth year at Hogwarts, comp...</td>\n",
       "      <td>157.0</td>\n",
       "      <td>Adventure|Fantasy|Family</td>\n",
       "      <td>Patalex IV Productions Limited|Warner Bros.|He...</td>\n",
       "    </tr>\n",
       "    <tr>\n",
       "      <th>9941</th>\n",
       "      <td>54001</td>\n",
       "      <td>Harry Potter and the Order of the Phoenix</td>\n",
       "      <td>Adventure|Drama|Fantasy|IMAX</td>\n",
       "      <td>2007</td>\n",
       "      <td>Daniel Radcliffe|Rupert Grint|Emma Watson|Mich...</td>\n",
       "      <td>David Yates</td>\n",
       "      <td>Evil Must Be Confronted.</td>\n",
       "      <td>Returning for his fifth year of study at Hogwa...</td>\n",
       "      <td>138.0</td>\n",
       "      <td>Adventure|Fantasy|Family|Mystery</td>\n",
       "      <td>Cool Music|Warner Bros.|Heyday Films|Harry Pot...</td>\n",
       "    </tr>\n",
       "  </tbody>\n",
       "</table>\n",
       "</div>"
      ],
      "text/plain": [
       "      movieId                                      title  \\\n",
       "3302     3388                   Harry and the Hendersons   \n",
       "4802     4896      Harry Potter and the Sorcerer's Stone   \n",
       "5391     5487            Harry and Walter Go to New York   \n",
       "5718     5816    Harry Potter and the Chamber of Secrets   \n",
       "7754     8368   Harry Potter and the Prisoner of Azkaban   \n",
       "9335    40815        Harry Potter and the Goblet of Fire   \n",
       "9941    54001  Harry Potter and the Order of the Phoenix   \n",
       "\n",
       "                             Genre  year  \\\n",
       "3302               Children|Comedy  1987   \n",
       "4802    Adventure|Children|Fantasy  2001   \n",
       "5391                        Comedy  1976   \n",
       "5718    Adventure|Children|Fantasy  2002   \n",
       "7754    Adventure|Children|Fantasy  2004   \n",
       "9335    Adventure|Fantasy|Thriller  2005   \n",
       "9941  Adventure|Drama|Fantasy|IMAX  2007   \n",
       "\n",
       "                                                   cast         director  \\\n",
       "3302  John Lithgow|Melinda Dillon|Margaret Langrick|...     William Dear   \n",
       "4802                                               None             None   \n",
       "5391                                               None             None   \n",
       "5718  Daniel Radcliffe|Rupert Grint|Emma Watson|Kenn...   Chris Columbus   \n",
       "7754  Daniel Radcliffe|Rupert Grint|Emma Watson|Gary...  Alfonso CuarÃ³n   \n",
       "9335  Daniel Radcliffe|Rupert Grint|Emma Watson|Ralp...      Mike Newell   \n",
       "9941  Daniel Radcliffe|Rupert Grint|Emma Watson|Mich...      David Yates   \n",
       "\n",
       "                                                tagline  \\\n",
       "3302  When You Can't Believe Your Eyes, Trust Your H...   \n",
       "4802                                               None   \n",
       "5391                                               None   \n",
       "5718                       Hogwarts is back in session.   \n",
       "7754                   Something wicked this way comes.   \n",
       "9335                Dark And Difficult Times Lie Ahead.   \n",
       "9941                           Evil Must Be Confronted.   \n",
       "\n",
       "                                               overview runtime  \\\n",
       "3302  Returning from a hunting trip in the forest, t...   110.0   \n",
       "4802                                               None    None   \n",
       "5391                                               None    None   \n",
       "5718  Ignoring threats to his life, Harry returns to...   161.0   \n",
       "7754  Harry, Ron and Hermione return to Hogwarts for...   141.0   \n",
       "9335  Harry starts his fourth year at Hogwarts, comp...   157.0   \n",
       "9941  Returning for his fifth year of study at Hogwa...   138.0   \n",
       "\n",
       "                                genres  \\\n",
       "3302             Comedy|Family|Fantasy   \n",
       "4802                              None   \n",
       "5391                              None   \n",
       "5718          Adventure|Fantasy|Family   \n",
       "7754          Adventure|Fantasy|Family   \n",
       "9335          Adventure|Fantasy|Family   \n",
       "9941  Adventure|Fantasy|Family|Mystery   \n",
       "\n",
       "                                   production_companies  \n",
       "3302            Universal Pictures|Amblin Entertainment  \n",
       "4802                                               None  \n",
       "5391                                               None  \n",
       "5718  1492 Pictures|Warner Bros.|Heyday Films|MIRACL...  \n",
       "7754  1492 Pictures|Warner Bros.|Heyday Films|P of A...  \n",
       "9335  Patalex IV Productions Limited|Warner Bros.|He...  \n",
       "9941  Cool Music|Warner Bros.|Heyday Films|Harry Pot...  "
      ]
     },
     "execution_count": 15,
     "metadata": {},
     "output_type": "execute_result"
    }
   ],
   "source": [
    "ml_25[ml_25['title'].str.startswith('Harry',na=False)==True]"
   ]
  }
 ],
 "metadata": {
  "kernelspec": {
   "display_name": "Python 3.7.5 64-bit",
   "language": "python",
   "name": "python37564bitf83a051b34ee4ec78bd37cf61e686e6a"
  },
  "language_info": {
   "codemirror_mode": {
    "name": "ipython",
    "version": 3
   },
   "file_extension": ".py",
   "mimetype": "text/x-python",
   "name": "python",
   "nbconvert_exporter": "python",
   "pygments_lexer": "ipython3",
   "version": "3.7.5"
  }
 },
 "nbformat": 4,
 "nbformat_minor": 4
}
